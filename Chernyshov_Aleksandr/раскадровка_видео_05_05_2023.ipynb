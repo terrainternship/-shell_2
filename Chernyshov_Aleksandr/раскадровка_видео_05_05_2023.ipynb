{
  "nbformat": 4,
  "nbformat_minor": 0,
  "metadata": {
    "colab": {
      "provenance": []
    },
    "kernelspec": {
      "name": "python3",
      "display_name": "Python 3"
    },
    "language_info": {
      "name": "python"
    }
  },
  "cells": [
    {
      "cell_type": "markdown",
      "source": [
        "# раскадровка видео"
      ],
      "metadata": {
        "id": "5XUa5pFDteoR"
      }
    },
    {
      "cell_type": "code",
      "source": [
        "#Код на Python с ООП для раскадровки видео и сохранения кадров в указанную директорию:\n",
        "\n",
        "import cv2\n",
        "import os\n",
        "\n",
        "class VideoProcessor:\n",
        "    def __init__(self, video_path, frame_rate, output_dir, time_interval):\n",
        "        self.video_path = video_path\n",
        "        self.frame_rate = frame_rate\n",
        "        self.output_dir = output_dir\n",
        "        self.time_interval = time_interval\n",
        "\n",
        "    def create_out_dir(self):\n",
        "    # Создаем выходную директорию, если она не существует\n",
        "        if not os.path.exists(self.output_dir):\n",
        "            os.makedirs(self.output_dir)\n",
        "\n",
        "    def extract_frames_v1(self):\n",
        "        # Читаем видео с использованием OpenCV\n",
        "        cap = cv2.VideoCapture(self.video_path)           \n",
        "        success, image = cap.read()\n",
        "        count = 0\n",
        "        while success:\n",
        "            cv2.imwrite(os.path.join(self.output_dir,                           # Save frame as JPEG file\n",
        "                                     \"frame{:d}.jpg\".format(count)), image)            \n",
        "            count += 1\n",
        "            cap.set(cv2.CAP_PROP_POS_FRAMES, count * self.frame_rate)           # Set the next frame to be read\n",
        "            success, image = cap.read()\n",
        "        # Освобождаем ресурсы\n",
        "        cap.release()\n",
        "        cv2.destroyAllWindows()\n",
        "\n",
        "    def extract_frames_v2(self):\n",
        "        cap = cv2.VideoCapture(self.video_path)\n",
        "        count = 0\n",
        "        while cap.isOpened():\n",
        "            ret, frame = cap.read()\n",
        "            if not ret:\n",
        "                break\n",
        "            if count % self.frame_rate == 0:\n",
        "                filename = os.path.join(self.output_dir, f\"frame{count}.jpg\")\n",
        "                cv2.imwrite(filename, frame)\n",
        "            count += 1\n",
        "        cap.release()\n",
        "        # Освобождаем ресурсы\n",
        "        cap.release()\n",
        "        cv2.destroyAllWindows()\n",
        "\n",
        "    def extract_frames_v3(self):\n",
        "        cap = cv2.VideoCapture(self.video_path)                 # Загружаем видео\n",
        "        total_frames = int(cap.get(cv2.CAP_PROP_FRAME_COUNT))   # Получаем количество кадров в видео\n",
        "        num_frames = int(self.frame_rate * self.time_interval)  # Вычисляем количество кадров, которые нужно сохранить\n",
        "        frame_interval = total_frames // num_frames             # Вычисляем интервал между сохраняемыми кадрами\n",
        "        saved_frames = 0                                        # Счетчик сохраненных кадров\n",
        "        while cap.isOpened():                                   # Читаем видео и сохраняем кадры\n",
        "            ret, frame = cap.read()\n",
        "            if ret:                                             # Сохраняем кадр, если он соответствует заданному интервалу\n",
        "                if saved_frames % frame_interval == 0:\n",
        "                    filename = f\"{saved_frames}.jpg\"\n",
        "                    filepath = os.path.join(self.output_dir, filename)\n",
        "                    cv2.imwrite(filepath, frame)\n",
        "                saved_frames += 1\n",
        "                if saved_frames >= num_frames:                  # Прерываем цикл, если сохранены все необходимые кадры\n",
        "                    break\n",
        "            else:\n",
        "                break\n",
        "        # Освобождаем ресурсы\n",
        "        cap.release()\n",
        "        cv2.destroyAllWindows()        "
      ],
      "metadata": {
        "id": "e4zLRocZlDm3"
      },
      "execution_count": null,
      "outputs": []
    },
    {
      "cell_type": "code",
      "source": [
        "if __name__ == '__main__':\n",
        "    # Example usage\n",
        "    video_path = '/content/video1.mp4'\n",
        "    frame_rate = 2  # Extract every 2 frames\n",
        "    time_interval = 10\n",
        "    output_dir = '/content/ext_image_3'\n",
        "    extractor = VideoProcessor(video_path, frame_rate, output_dir, time_interval)\n",
        "    extractor.create_out_dir()      # создаем выходную дирректорию\n",
        "\n",
        "   # extractor.extract_frames_v1()   # извлечение Вариант 1\n",
        "   # extractor.extract_frames_v2()  # извлечение Вариант 2\n",
        "    extractor.extract_frames_v3()  # извлечение Вариант 3\n",
        "\n"
      ],
      "metadata": {
        "id": "vbc-RXVkqIjp"
      },
      "execution_count": null,
      "outputs": []
    },
    {
      "cell_type": "markdown",
      "source": [
        "В данном примере мы создаем класс `VideoProcessor`, который принимает путь к видео, режим раскадровки (количество кадров в секунду) и директорию для сохранения кадров. Метод `extract_frames` использует библиотеку OpenCV для чтения видео и сохранения каждого кадра в указанную директорию. \n",
        "\n",
        "Пример использования класса показывает, как можно создать экземпляр класса и вызвать метод `extract_frames` для извлечения кадров из видео с указанным режимом раскадровки и сохранения их в указанную директорию."
      ],
      "metadata": {
        "id": "wcQwv9cEqFH9"
      }
    }
  ]
}