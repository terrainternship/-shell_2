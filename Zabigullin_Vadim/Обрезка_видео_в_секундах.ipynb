{
  "nbformat": 4,
  "nbformat_minor": 0,
  "metadata": {
    "colab": {
      "provenance": []
    },
    "kernelspec": {
      "name": "python3",
      "display_name": "Python 3"
    },
    "language_info": {
      "name": "python"
    }
  },
  "cells": [
    {
      "cell_type": "code",
      "execution_count": null,
      "metadata": {
        "id": "e5KVpE8YGVtC"
      },
      "outputs": [],
      "source": [
        "import cv2"
      ]
    },
    {
      "cell_type": "code",
      "source": [
        "# Установка временных границ для обрезки видео\n",
        "start_time = 15 # начало в секундах\n",
        "end_time = 95 # конец в секундах\n",
        "\n",
        "# Открытие видеофайла для чтения\n",
        "video_capture = cv2.VideoCapture('/content/input.mp4')\n",
        "\n",
        "# Получение частоты кадров и общего количества кадров в видео\n",
        "fps = video_capture.get(cv2.CAP_PROP_FPS)\n",
        "frame_count = int(video_capture.get(cv2.CAP_PROP_FRAME_COUNT))\n",
        "\n",
        "# Вычисление временных границ в кадрах\n",
        "start_frame = int(start_time * fps)\n",
        "end_frame = int(end_time * fps)\n",
        "\n",
        "# Установка указателя позиции на начальный кадр для чтения\n",
        "video_capture.set(cv2.CAP_PROP_POS_FRAMES, start_frame)\n",
        "\n",
        "# Создание объекта VideoWriter для записи нового видеофайла\n",
        "fourcc = cv2.VideoWriter_fourcc(*'mp4v')\n",
        "out = cv2.VideoWriter('output.mp4', fourcc, fps, (int(video_capture.get(3)),int(video_capture.get(4))))\n",
        "\n",
        "# Чтение видео и запись вырезанной части в новый файл\n",
        "for frame_no in range(start_frame, end_frame):\n",
        "    ret, frame = video_capture.read()\n",
        "    if ret:\n",
        "        out.write(frame)\n",
        "    else:\n",
        "        break\n",
        "\n",
        "# Освобождение ресурсов\n",
        "video_capture.release()\n",
        "out.release()\n",
        "cv2.destroyAllWindows()"
      ],
      "metadata": {
        "id": "WnvE6LdkGckA"
      },
      "execution_count": null,
      "outputs": []
    }
  ]
}