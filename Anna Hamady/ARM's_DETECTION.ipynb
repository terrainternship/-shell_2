{
  "cells": [
    {
      "cell_type": "code",
      "execution_count": null,
      "metadata": {
        "id": "VOCiUkQugalw"
      },
      "outputs": [],
      "source": [
        "from tensorflow.keras.layers import Input, Conv2D, BatchNormalization, ZeroPadding2D, Add, UpSampling2D, Concatenate, Lambda, LeakyReLU # Стандартные слои Keras\n",
        "from tensorflow.keras.regularizers import l2 # Регуляризатор l2\n",
        "from tensorflow.keras.optimizers import Adam # Оптимизатор Adam\n",
        "from tensorflow.keras.models import Model # Абстрактный класс Model\n",
        "from PIL import Image, ImageDraw, ImageFont # Модули работы с изображениями\n",
        "from matplotlib.colors import rgb_to_hsv, hsv_to_rgb # Модули конвертации между RGB и HSV\n",
        "from google.colab import files # Модуль работы с файловой системой google\n",
        "\n",
        "import tensorflow.keras.backend as K # бэкенд Keras\n",
        "import math # Импортируем модуль math\n",
        "import pandas as pd # Пандас для работы с csv\n",
        "import tensorflow as tf # TensorFlow\n",
        "import numpy as np # numpy массивы\n",
        "import matplotlib.pyplot as plt # графики\n",
        "import os # модуль работы с файловой системой\n",
        "import time # модуль работы со временем\n",
        "import cv2"
      ]
    },
    {
      "cell_type": "code",
      "execution_count": null,
      "metadata": {
        "colab": {
          "base_uri": "https://localhost:8080/"
        },
        "id": "4In33Ggegal1",
        "outputId": "cd552337-ff3f-4cd3-fdf8-fdffc35a4b73"
      },
      "outputs": [
        {
          "output_type": "stream",
          "name": "stdout",
          "text": [
            "Mounted at /content/drive\n"
          ]
        }
      ],
      "source": [
        "from google.colab import drive # подключаем гугл драйв диск для загрузки файлов\n",
        "drive.mount('/content/drive')"
      ]
    },
    {
      "cell_type": "code",
      "source": [
        "# Установка библиотеки OpenCV\n",
        "!pip install opencv-python"
      ],
      "metadata": {
        "id": "KLeMqNLDstfn"
      },
      "execution_count": null,
      "outputs": []
    },
    {
      "cell_type": "code",
      "source": [
        "# Раскадрирование видео и сохранение кадров\n",
        "video_path = \"/content/drive/MyDrive/videoplayback2.mp4\"\n",
        "cap = cv2.VideoCapture(video_path)\n",
        "count = 0\n",
        "frame_interval = 3 * int(cap.get(cv2.CAP_PROP_FPS)) # интервал в 3 секунды\n",
        "\n",
        "while cap.isOpened():\n",
        "    ret, frame = cap.read()\n",
        "    if not ret:\n",
        "        break\n",
        "    \n",
        "    if count % frame_interval == 0:\n",
        "        image_name = f\"frame_{count}.jpg\"\n",
        "        image_path = f\"/content/drive/MyDrive/{image_name}\"\n",
        "        cv2.imwrite(image_path, frame)\n",
        "    \n",
        "    count += 1\n",
        "\n",
        "cap.release()\n",
        "\n",
        "# Шаг 4: Сохранение изображений в Google Drive\n",
        "from google.colab import drive\n",
        "drive.mount('/content/drive')\n",
        "\n",
        "image_folder_path = \"/content/drive/MyDrive/\"\n",
        "image_save_folder_path = \"/content/drive/MyDrive/Saved_Images/\"\n",
        "\n",
        "!mkdir -p \"{image_save_folder_path}\"\n",
        "!cp \"{image_folder_path}\"frame*.jpg \"{image_save_folder_path}\"\n"
      ],
      "metadata": {
        "colab": {
          "base_uri": "https://localhost:8080/"
        },
        "id": "MnkepdrAng9r",
        "outputId": "0090ff56-8422-4161-c207-8911cc23d8c3"
      },
      "execution_count": null,
      "outputs": [
        {
          "output_type": "stream",
          "name": "stdout",
          "text": [
            "Looking in indexes: https://pypi.org/simple, https://us-python.pkg.dev/colab-wheels/public/simple/\n",
            "Requirement already satisfied: opencv-python in /usr/local/lib/python3.10/dist-packages (4.7.0.72)\n",
            "Requirement already satisfied: numpy>=1.21.2 in /usr/local/lib/python3.10/dist-packages (from opencv-python) (1.22.4)\n",
            "Drive already mounted at /content/drive; to attempt to forcibly remount, call drive.mount(\"/content/drive\", force_remount=True).\n"
          ]
        }
      ]
    }
  ],
  "metadata": {
    "colab": {
      "provenance": []
    },
    "kernelspec": {
      "display_name": "Python 3",
      "name": "python3"
    }
  },
  "nbformat": 4,
  "nbformat_minor": 0
}